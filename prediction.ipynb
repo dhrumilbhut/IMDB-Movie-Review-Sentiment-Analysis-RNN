{
 "cells": [
  {
   "cell_type": "code",
   "execution_count": 22,
   "metadata": {},
   "outputs": [],
   "source": [
    "import numpy as np\n",
    "import tensorflow as tf\n",
    "from tensorflow.keras.datasets import imdb\n",
    "from tensorflow.keras.preprocessing import sequence\n",
    "from tensorflow.keras.models import load_model"
   ]
  },
  {
   "cell_type": "code",
   "execution_count": 23,
   "metadata": {},
   "outputs": [],
   "source": [
    "## Load the IMDB word index\n",
    "word_index = imdb.get_word_index()\n",
    "reverse_word_index = {value: key for key, value in word_index.items()}"
   ]
  },
  {
   "cell_type": "code",
   "execution_count": 24,
   "metadata": {},
   "outputs": [
    {
     "name": "stdout",
     "output_type": "stream",
     "text": [
      "Model: \"sequential_2\"\n",
      "_________________________________________________________________\n",
      " Layer (type)                Output Shape              Param #   \n",
      "=================================================================\n",
      " embedding_2 (Embedding)     (None, 700, 128)          1280000   \n",
      "                                                                 \n",
      " simple_rnn_2 (SimpleRNN)    (None, 128)               32896     \n",
      "                                                                 \n",
      " dense_2 (Dense)             (None, 1)                 129       \n",
      "                                                                 \n",
      "=================================================================\n",
      "Total params: 1313025 (5.01 MB)\n",
      "Trainable params: 1313025 (5.01 MB)\n",
      "Non-trainable params: 0 (0.00 Byte)\n",
      "_________________________________________________________________\n"
     ]
    }
   ],
   "source": [
    "## Load the pre-trained model\n",
    "model = load_model('simple_rnn_imdb.h5')\n",
    "model.summary()"
   ]
  },
  {
   "cell_type": "code",
   "execution_count": 28,
   "metadata": {},
   "outputs": [],
   "source": [
    "# Helper functions\n",
    "# Decode the review\n",
    "def decode_review(review):\n",
    "    return ' '.join([reverse_word_index.get(i - 3, '?') for i in review])\n",
    "\n",
    "# Encode the review\n",
    "def preprocess_text(review):\n",
    "    words = review.lower().split()\n",
    "    encoded_review = [word_index.get(word, 2) + 3 for word in words]\n",
    "    padded_review = sequence.pad_sequences([encoded_review], maxlen=700)\n",
    "    return padded_review"
   ]
  },
  {
   "cell_type": "code",
   "execution_count": 29,
   "metadata": {},
   "outputs": [],
   "source": [
    "## Prediction\n",
    "\n",
    "def predict_sentiment(review):\n",
    "    preprocessed_review = preprocess_text(review)\n",
    "    prediction = model.predict(preprocessed_review)\n",
    "    sentiment = 'Positive' if prediction[0][0] > 0.5 else 'Negative'\n",
    "    return sentiment, prediction[0][0]"
   ]
  },
  {
   "cell_type": "code",
   "execution_count": 30,
   "metadata": {},
   "outputs": [
    {
     "ename": "InvalidArgumentError",
     "evalue": "Graph execution error:\n\nDetected at node sequential_2/embedding_2/embedding_lookup defined at (most recent call last):\n  File \"<frozen runpy>\", line 198, in _run_module_as_main\n\n  File \"<frozen runpy>\", line 88, in _run_code\n\n  File \"c:\\Users\\ZTI\\Jupyter Folder\\Projects\\customer churn prediction\\venv\\Lib\\site-packages\\ipykernel_launcher.py\", line 18, in <module>\n\n  File \"c:\\Users\\ZTI\\Jupyter Folder\\Projects\\customer churn prediction\\venv\\Lib\\site-packages\\traitlets\\config\\application.py\", line 1075, in launch_instance\n\n  File \"c:\\Users\\ZTI\\Jupyter Folder\\Projects\\customer churn prediction\\venv\\Lib\\site-packages\\ipykernel\\kernelapp.py\", line 739, in start\n\n  File \"c:\\Users\\ZTI\\Jupyter Folder\\Projects\\customer churn prediction\\venv\\Lib\\site-packages\\tornado\\platform\\asyncio.py\", line 205, in start\n\n  File \"c:\\Users\\ZTI\\Jupyter Folder\\Projects\\customer churn prediction\\venv\\Lib\\asyncio\\base_events.py\", line 604, in run_forever\n\n  File \"c:\\Users\\ZTI\\Jupyter Folder\\Projects\\customer churn prediction\\venv\\Lib\\asyncio\\base_events.py\", line 1909, in _run_once\n\n  File \"c:\\Users\\ZTI\\Jupyter Folder\\Projects\\customer churn prediction\\venv\\Lib\\asyncio\\events.py\", line 80, in _run\n\n  File \"c:\\Users\\ZTI\\Jupyter Folder\\Projects\\customer churn prediction\\venv\\Lib\\site-packages\\ipykernel\\kernelbase.py\", line 545, in dispatch_queue\n\n  File \"c:\\Users\\ZTI\\Jupyter Folder\\Projects\\customer churn prediction\\venv\\Lib\\site-packages\\ipykernel\\kernelbase.py\", line 534, in process_one\n\n  File \"c:\\Users\\ZTI\\Jupyter Folder\\Projects\\customer churn prediction\\venv\\Lib\\site-packages\\ipykernel\\kernelbase.py\", line 437, in dispatch_shell\n\n  File \"c:\\Users\\ZTI\\Jupyter Folder\\Projects\\customer churn prediction\\venv\\Lib\\site-packages\\ipykernel\\ipkernel.py\", line 362, in execute_request\n\n  File \"c:\\Users\\ZTI\\Jupyter Folder\\Projects\\customer churn prediction\\venv\\Lib\\site-packages\\ipykernel\\kernelbase.py\", line 778, in execute_request\n\n  File \"c:\\Users\\ZTI\\Jupyter Folder\\Projects\\customer churn prediction\\venv\\Lib\\site-packages\\ipykernel\\ipkernel.py\", line 449, in do_execute\n\n  File \"c:\\Users\\ZTI\\Jupyter Folder\\Projects\\customer churn prediction\\venv\\Lib\\site-packages\\ipykernel\\zmqshell.py\", line 549, in run_cell\n\n  File \"c:\\Users\\ZTI\\Jupyter Folder\\Projects\\customer churn prediction\\venv\\Lib\\site-packages\\IPython\\core\\interactiveshell.py\", line 3075, in run_cell\n\n  File \"c:\\Users\\ZTI\\Jupyter Folder\\Projects\\customer churn prediction\\venv\\Lib\\site-packages\\IPython\\core\\interactiveshell.py\", line 3130, in _run_cell\n\n  File \"c:\\Users\\ZTI\\Jupyter Folder\\Projects\\customer churn prediction\\venv\\Lib\\site-packages\\IPython\\core\\async_helpers.py\", line 128, in _pseudo_sync_runner\n\n  File \"c:\\Users\\ZTI\\Jupyter Folder\\Projects\\customer churn prediction\\venv\\Lib\\site-packages\\IPython\\core\\interactiveshell.py\", line 3334, in run_cell_async\n\n  File \"c:\\Users\\ZTI\\Jupyter Folder\\Projects\\customer churn prediction\\venv\\Lib\\site-packages\\IPython\\core\\interactiveshell.py\", line 3517, in run_ast_nodes\n\n  File \"c:\\Users\\ZTI\\Jupyter Folder\\Projects\\customer churn prediction\\venv\\Lib\\site-packages\\IPython\\core\\interactiveshell.py\", line 3577, in run_code\n\n  File \"C:\\Users\\ZTI\\AppData\\Local\\Temp\\ipykernel_12520\\3179797157.py\", line 4, in <module>\n\n  File \"C:\\Users\\ZTI\\AppData\\Local\\Temp\\ipykernel_12520\\1524929144.py\", line 5, in predict_sentiment\n\n  File \"c:\\Users\\ZTI\\Jupyter Folder\\Projects\\customer churn prediction\\venv\\Lib\\site-packages\\keras\\src\\utils\\traceback_utils.py\", line 65, in error_handler\n\n  File \"c:\\Users\\ZTI\\Jupyter Folder\\Projects\\customer churn prediction\\venv\\Lib\\site-packages\\keras\\src\\engine\\training.py\", line 2655, in predict\n\n  File \"c:\\Users\\ZTI\\Jupyter Folder\\Projects\\customer churn prediction\\venv\\Lib\\site-packages\\keras\\src\\engine\\training.py\", line 2440, in predict_function\n\n  File \"c:\\Users\\ZTI\\Jupyter Folder\\Projects\\customer churn prediction\\venv\\Lib\\site-packages\\keras\\src\\engine\\training.py\", line 2425, in step_function\n\n  File \"c:\\Users\\ZTI\\Jupyter Folder\\Projects\\customer churn prediction\\venv\\Lib\\site-packages\\keras\\src\\engine\\training.py\", line 2413, in run_step\n\n  File \"c:\\Users\\ZTI\\Jupyter Folder\\Projects\\customer churn prediction\\venv\\Lib\\site-packages\\keras\\src\\engine\\training.py\", line 2381, in predict_step\n\n  File \"c:\\Users\\ZTI\\Jupyter Folder\\Projects\\customer churn prediction\\venv\\Lib\\site-packages\\keras\\src\\utils\\traceback_utils.py\", line 65, in error_handler\n\n  File \"c:\\Users\\ZTI\\Jupyter Folder\\Projects\\customer churn prediction\\venv\\Lib\\site-packages\\keras\\src\\engine\\training.py\", line 590, in __call__\n\n  File \"c:\\Users\\ZTI\\Jupyter Folder\\Projects\\customer churn prediction\\venv\\Lib\\site-packages\\keras\\src\\utils\\traceback_utils.py\", line 65, in error_handler\n\n  File \"c:\\Users\\ZTI\\Jupyter Folder\\Projects\\customer churn prediction\\venv\\Lib\\site-packages\\keras\\src\\engine\\base_layer.py\", line 1149, in __call__\n\n  File \"c:\\Users\\ZTI\\Jupyter Folder\\Projects\\customer churn prediction\\venv\\Lib\\site-packages\\keras\\src\\utils\\traceback_utils.py\", line 96, in error_handler\n\n  File \"c:\\Users\\ZTI\\Jupyter Folder\\Projects\\customer churn prediction\\venv\\Lib\\site-packages\\keras\\src\\engine\\sequential.py\", line 398, in call\n\n  File \"c:\\Users\\ZTI\\Jupyter Folder\\Projects\\customer churn prediction\\venv\\Lib\\site-packages\\keras\\src\\engine\\functional.py\", line 515, in call\n\n  File \"c:\\Users\\ZTI\\Jupyter Folder\\Projects\\customer churn prediction\\venv\\Lib\\site-packages\\keras\\src\\engine\\functional.py\", line 672, in _run_internal_graph\n\n  File \"c:\\Users\\ZTI\\Jupyter Folder\\Projects\\customer churn prediction\\venv\\Lib\\site-packages\\keras\\src\\utils\\traceback_utils.py\", line 65, in error_handler\n\n  File \"c:\\Users\\ZTI\\Jupyter Folder\\Projects\\customer churn prediction\\venv\\Lib\\site-packages\\keras\\src\\engine\\base_layer.py\", line 1149, in __call__\n\n  File \"c:\\Users\\ZTI\\Jupyter Folder\\Projects\\customer churn prediction\\venv\\Lib\\site-packages\\keras\\src\\utils\\traceback_utils.py\", line 96, in error_handler\n\n  File \"c:\\Users\\ZTI\\Jupyter Folder\\Projects\\customer churn prediction\\venv\\Lib\\site-packages\\keras\\src\\layers\\core\\embedding.py\", line 272, in call\n\nindices[0,685] = 33248 is not in [0, 10000)\n\t [[{{node sequential_2/embedding_2/embedding_lookup}}]] [Op:__inference_predict_function_1315]",
     "output_type": "error",
     "traceback": [
      "\u001b[1;31m---------------------------------------------------------------------------\u001b[0m",
      "\u001b[1;31mInvalidArgumentError\u001b[0m                      Traceback (most recent call last)",
      "Cell \u001b[1;32mIn[30], line 4\u001b[0m\n\u001b[0;32m      1\u001b[0m \u001b[38;5;66;03m# Example input and prediction\u001b[39;00m\n\u001b[0;32m      2\u001b[0m \u001b[38;5;66;03m# example_review = 'The movie was a great waste of my time'\u001b[39;00m\n\u001b[0;32m      3\u001b[0m example_review \u001b[38;5;241m=\u001b[39m \u001b[38;5;124m\"\u001b[39m\u001b[38;5;124mI have been known to fall asleep during films, but this is usually due to a combination of things including, really tired, being warm and comfortable on the settee and having just eaten a lot. However, on this occasion, I fell asleep because the film was rubbish. The plot development was constant. Constantly slow and boring. Things seemed to happen, but with no explanation of what was causing them or why. I admit, I may have missed part of the film, but I watched the majority of it and everything just seemed to happen of its own accord without any real concern for anything else. I cant recommend this film at all.\u001b[39m\u001b[38;5;124m\"\u001b[39m\n\u001b[1;32m----> 4\u001b[0m sentiment, score \u001b[38;5;241m=\u001b[39m \u001b[43mpredict_sentiment\u001b[49m\u001b[43m(\u001b[49m\u001b[43mexample_review\u001b[49m\u001b[43m)\u001b[49m\n\u001b[0;32m      6\u001b[0m \u001b[38;5;28mprint\u001b[39m(\u001b[38;5;124mf\u001b[39m\u001b[38;5;124m'\u001b[39m\u001b[38;5;124mReview: \u001b[39m\u001b[38;5;132;01m{\u001b[39;00mexample_review\u001b[38;5;132;01m}\u001b[39;00m\u001b[38;5;124m'\u001b[39m)\n\u001b[0;32m      7\u001b[0m \u001b[38;5;28mprint\u001b[39m(\u001b[38;5;124mf\u001b[39m\u001b[38;5;124m'\u001b[39m\u001b[38;5;124mSentiment: \u001b[39m\u001b[38;5;132;01m{\u001b[39;00msentiment\u001b[38;5;132;01m}\u001b[39;00m\u001b[38;5;124m'\u001b[39m)\n",
      "Cell \u001b[1;32mIn[29], line 5\u001b[0m, in \u001b[0;36mpredict_sentiment\u001b[1;34m(review)\u001b[0m\n\u001b[0;32m      3\u001b[0m \u001b[38;5;28;01mdef\u001b[39;00m \u001b[38;5;21mpredict_sentiment\u001b[39m(review):\n\u001b[0;32m      4\u001b[0m     preprocessed_review \u001b[38;5;241m=\u001b[39m preprocess_text(review)\n\u001b[1;32m----> 5\u001b[0m     prediction \u001b[38;5;241m=\u001b[39m \u001b[43mmodel\u001b[49m\u001b[38;5;241;43m.\u001b[39;49m\u001b[43mpredict\u001b[49m\u001b[43m(\u001b[49m\u001b[43mpreprocessed_review\u001b[49m\u001b[43m)\u001b[49m\n\u001b[0;32m      6\u001b[0m     sentiment \u001b[38;5;241m=\u001b[39m \u001b[38;5;124m'\u001b[39m\u001b[38;5;124mPositive\u001b[39m\u001b[38;5;124m'\u001b[39m \u001b[38;5;28;01mif\u001b[39;00m prediction[\u001b[38;5;241m0\u001b[39m][\u001b[38;5;241m0\u001b[39m] \u001b[38;5;241m>\u001b[39m \u001b[38;5;241m0.5\u001b[39m \u001b[38;5;28;01melse\u001b[39;00m \u001b[38;5;124m'\u001b[39m\u001b[38;5;124mNegative\u001b[39m\u001b[38;5;124m'\u001b[39m\n\u001b[0;32m      7\u001b[0m     \u001b[38;5;28;01mreturn\u001b[39;00m sentiment, prediction[\u001b[38;5;241m0\u001b[39m][\u001b[38;5;241m0\u001b[39m]\n",
      "File \u001b[1;32mc:\\Users\\ZTI\\Jupyter Folder\\Projects\\customer churn prediction\\venv\\Lib\\site-packages\\keras\\src\\utils\\traceback_utils.py:70\u001b[0m, in \u001b[0;36mfilter_traceback.<locals>.error_handler\u001b[1;34m(*args, **kwargs)\u001b[0m\n\u001b[0;32m     67\u001b[0m     filtered_tb \u001b[38;5;241m=\u001b[39m _process_traceback_frames(e\u001b[38;5;241m.\u001b[39m__traceback__)\n\u001b[0;32m     68\u001b[0m     \u001b[38;5;66;03m# To get the full stack trace, call:\u001b[39;00m\n\u001b[0;32m     69\u001b[0m     \u001b[38;5;66;03m# `tf.debugging.disable_traceback_filtering()`\u001b[39;00m\n\u001b[1;32m---> 70\u001b[0m     \u001b[38;5;28;01mraise\u001b[39;00m e\u001b[38;5;241m.\u001b[39mwith_traceback(filtered_tb) \u001b[38;5;28;01mfrom\u001b[39;00m \u001b[38;5;28;01mNone\u001b[39;00m\n\u001b[0;32m     71\u001b[0m \u001b[38;5;28;01mfinally\u001b[39;00m:\n\u001b[0;32m     72\u001b[0m     \u001b[38;5;28;01mdel\u001b[39;00m filtered_tb\n",
      "File \u001b[1;32mc:\\Users\\ZTI\\Jupyter Folder\\Projects\\customer churn prediction\\venv\\Lib\\site-packages\\tensorflow\\python\\eager\\execute.py:53\u001b[0m, in \u001b[0;36mquick_execute\u001b[1;34m(op_name, num_outputs, inputs, attrs, ctx, name)\u001b[0m\n\u001b[0;32m     51\u001b[0m \u001b[38;5;28;01mtry\u001b[39;00m:\n\u001b[0;32m     52\u001b[0m   ctx\u001b[38;5;241m.\u001b[39mensure_initialized()\n\u001b[1;32m---> 53\u001b[0m   tensors \u001b[38;5;241m=\u001b[39m pywrap_tfe\u001b[38;5;241m.\u001b[39mTFE_Py_Execute(ctx\u001b[38;5;241m.\u001b[39m_handle, device_name, op_name,\n\u001b[0;32m     54\u001b[0m                                       inputs, attrs, num_outputs)\n\u001b[0;32m     55\u001b[0m \u001b[38;5;28;01mexcept\u001b[39;00m core\u001b[38;5;241m.\u001b[39m_NotOkStatusException \u001b[38;5;28;01mas\u001b[39;00m e:\n\u001b[0;32m     56\u001b[0m   \u001b[38;5;28;01mif\u001b[39;00m name \u001b[38;5;129;01mis\u001b[39;00m \u001b[38;5;129;01mnot\u001b[39;00m \u001b[38;5;28;01mNone\u001b[39;00m:\n",
      "\u001b[1;31mInvalidArgumentError\u001b[0m: Graph execution error:\n\nDetected at node sequential_2/embedding_2/embedding_lookup defined at (most recent call last):\n  File \"<frozen runpy>\", line 198, in _run_module_as_main\n\n  File \"<frozen runpy>\", line 88, in _run_code\n\n  File \"c:\\Users\\ZTI\\Jupyter Folder\\Projects\\customer churn prediction\\venv\\Lib\\site-packages\\ipykernel_launcher.py\", line 18, in <module>\n\n  File \"c:\\Users\\ZTI\\Jupyter Folder\\Projects\\customer churn prediction\\venv\\Lib\\site-packages\\traitlets\\config\\application.py\", line 1075, in launch_instance\n\n  File \"c:\\Users\\ZTI\\Jupyter Folder\\Projects\\customer churn prediction\\venv\\Lib\\site-packages\\ipykernel\\kernelapp.py\", line 739, in start\n\n  File \"c:\\Users\\ZTI\\Jupyter Folder\\Projects\\customer churn prediction\\venv\\Lib\\site-packages\\tornado\\platform\\asyncio.py\", line 205, in start\n\n  File \"c:\\Users\\ZTI\\Jupyter Folder\\Projects\\customer churn prediction\\venv\\Lib\\asyncio\\base_events.py\", line 604, in run_forever\n\n  File \"c:\\Users\\ZTI\\Jupyter Folder\\Projects\\customer churn prediction\\venv\\Lib\\asyncio\\base_events.py\", line 1909, in _run_once\n\n  File \"c:\\Users\\ZTI\\Jupyter Folder\\Projects\\customer churn prediction\\venv\\Lib\\asyncio\\events.py\", line 80, in _run\n\n  File \"c:\\Users\\ZTI\\Jupyter Folder\\Projects\\customer churn prediction\\venv\\Lib\\site-packages\\ipykernel\\kernelbase.py\", line 545, in dispatch_queue\n\n  File \"c:\\Users\\ZTI\\Jupyter Folder\\Projects\\customer churn prediction\\venv\\Lib\\site-packages\\ipykernel\\kernelbase.py\", line 534, in process_one\n\n  File \"c:\\Users\\ZTI\\Jupyter Folder\\Projects\\customer churn prediction\\venv\\Lib\\site-packages\\ipykernel\\kernelbase.py\", line 437, in dispatch_shell\n\n  File \"c:\\Users\\ZTI\\Jupyter Folder\\Projects\\customer churn prediction\\venv\\Lib\\site-packages\\ipykernel\\ipkernel.py\", line 362, in execute_request\n\n  File \"c:\\Users\\ZTI\\Jupyter Folder\\Projects\\customer churn prediction\\venv\\Lib\\site-packages\\ipykernel\\kernelbase.py\", line 778, in execute_request\n\n  File \"c:\\Users\\ZTI\\Jupyter Folder\\Projects\\customer churn prediction\\venv\\Lib\\site-packages\\ipykernel\\ipkernel.py\", line 449, in do_execute\n\n  File \"c:\\Users\\ZTI\\Jupyter Folder\\Projects\\customer churn prediction\\venv\\Lib\\site-packages\\ipykernel\\zmqshell.py\", line 549, in run_cell\n\n  File \"c:\\Users\\ZTI\\Jupyter Folder\\Projects\\customer churn prediction\\venv\\Lib\\site-packages\\IPython\\core\\interactiveshell.py\", line 3075, in run_cell\n\n  File \"c:\\Users\\ZTI\\Jupyter Folder\\Projects\\customer churn prediction\\venv\\Lib\\site-packages\\IPython\\core\\interactiveshell.py\", line 3130, in _run_cell\n\n  File \"c:\\Users\\ZTI\\Jupyter Folder\\Projects\\customer churn prediction\\venv\\Lib\\site-packages\\IPython\\core\\async_helpers.py\", line 128, in _pseudo_sync_runner\n\n  File \"c:\\Users\\ZTI\\Jupyter Folder\\Projects\\customer churn prediction\\venv\\Lib\\site-packages\\IPython\\core\\interactiveshell.py\", line 3334, in run_cell_async\n\n  File \"c:\\Users\\ZTI\\Jupyter Folder\\Projects\\customer churn prediction\\venv\\Lib\\site-packages\\IPython\\core\\interactiveshell.py\", line 3517, in run_ast_nodes\n\n  File \"c:\\Users\\ZTI\\Jupyter Folder\\Projects\\customer churn prediction\\venv\\Lib\\site-packages\\IPython\\core\\interactiveshell.py\", line 3577, in run_code\n\n  File \"C:\\Users\\ZTI\\AppData\\Local\\Temp\\ipykernel_12520\\3179797157.py\", line 4, in <module>\n\n  File \"C:\\Users\\ZTI\\AppData\\Local\\Temp\\ipykernel_12520\\1524929144.py\", line 5, in predict_sentiment\n\n  File \"c:\\Users\\ZTI\\Jupyter Folder\\Projects\\customer churn prediction\\venv\\Lib\\site-packages\\keras\\src\\utils\\traceback_utils.py\", line 65, in error_handler\n\n  File \"c:\\Users\\ZTI\\Jupyter Folder\\Projects\\customer churn prediction\\venv\\Lib\\site-packages\\keras\\src\\engine\\training.py\", line 2655, in predict\n\n  File \"c:\\Users\\ZTI\\Jupyter Folder\\Projects\\customer churn prediction\\venv\\Lib\\site-packages\\keras\\src\\engine\\training.py\", line 2440, in predict_function\n\n  File \"c:\\Users\\ZTI\\Jupyter Folder\\Projects\\customer churn prediction\\venv\\Lib\\site-packages\\keras\\src\\engine\\training.py\", line 2425, in step_function\n\n  File \"c:\\Users\\ZTI\\Jupyter Folder\\Projects\\customer churn prediction\\venv\\Lib\\site-packages\\keras\\src\\engine\\training.py\", line 2413, in run_step\n\n  File \"c:\\Users\\ZTI\\Jupyter Folder\\Projects\\customer churn prediction\\venv\\Lib\\site-packages\\keras\\src\\engine\\training.py\", line 2381, in predict_step\n\n  File \"c:\\Users\\ZTI\\Jupyter Folder\\Projects\\customer churn prediction\\venv\\Lib\\site-packages\\keras\\src\\utils\\traceback_utils.py\", line 65, in error_handler\n\n  File \"c:\\Users\\ZTI\\Jupyter Folder\\Projects\\customer churn prediction\\venv\\Lib\\site-packages\\keras\\src\\engine\\training.py\", line 590, in __call__\n\n  File \"c:\\Users\\ZTI\\Jupyter Folder\\Projects\\customer churn prediction\\venv\\Lib\\site-packages\\keras\\src\\utils\\traceback_utils.py\", line 65, in error_handler\n\n  File \"c:\\Users\\ZTI\\Jupyter Folder\\Projects\\customer churn prediction\\venv\\Lib\\site-packages\\keras\\src\\engine\\base_layer.py\", line 1149, in __call__\n\n  File \"c:\\Users\\ZTI\\Jupyter Folder\\Projects\\customer churn prediction\\venv\\Lib\\site-packages\\keras\\src\\utils\\traceback_utils.py\", line 96, in error_handler\n\n  File \"c:\\Users\\ZTI\\Jupyter Folder\\Projects\\customer churn prediction\\venv\\Lib\\site-packages\\keras\\src\\engine\\sequential.py\", line 398, in call\n\n  File \"c:\\Users\\ZTI\\Jupyter Folder\\Projects\\customer churn prediction\\venv\\Lib\\site-packages\\keras\\src\\engine\\functional.py\", line 515, in call\n\n  File \"c:\\Users\\ZTI\\Jupyter Folder\\Projects\\customer churn prediction\\venv\\Lib\\site-packages\\keras\\src\\engine\\functional.py\", line 672, in _run_internal_graph\n\n  File \"c:\\Users\\ZTI\\Jupyter Folder\\Projects\\customer churn prediction\\venv\\Lib\\site-packages\\keras\\src\\utils\\traceback_utils.py\", line 65, in error_handler\n\n  File \"c:\\Users\\ZTI\\Jupyter Folder\\Projects\\customer churn prediction\\venv\\Lib\\site-packages\\keras\\src\\engine\\base_layer.py\", line 1149, in __call__\n\n  File \"c:\\Users\\ZTI\\Jupyter Folder\\Projects\\customer churn prediction\\venv\\Lib\\site-packages\\keras\\src\\utils\\traceback_utils.py\", line 96, in error_handler\n\n  File \"c:\\Users\\ZTI\\Jupyter Folder\\Projects\\customer churn prediction\\venv\\Lib\\site-packages\\keras\\src\\layers\\core\\embedding.py\", line 272, in call\n\nindices[0,685] = 33248 is not in [0, 10000)\n\t [[{{node sequential_2/embedding_2/embedding_lookup}}]] [Op:__inference_predict_function_1315]"
     ]
    }
   ],
   "source": [
    "# Example input and prediction\n",
    "# example_review = 'The movie was a great waste of my time'\n",
    "example_review = \"I have been known to fall asleep during films, but this is usually due to a combination of things including, really tired, being warm and comfortable on the settee and having just eaten a lot. However, on this occasion, I fell asleep because the film was rubbish. The plot development was constant. Constantly slow and boring. Things seemed to happen, but with no explanation of what was causing them or why. I admit, I may have missed part of the film, but I watched the majority of it and everything just seemed to happen of its own accord without any real concern for anything else. I cant recommend this film at all.\"\n",
    "sentiment, score = predict_sentiment(example_review)\n",
    "\n",
    "print(f'Review: {example_review}')\n",
    "print(f'Sentiment: {sentiment}')\n",
    "print(f'Prediction Score: {score}')"
   ]
  },
  {
   "cell_type": "code",
   "execution_count": null,
   "metadata": {},
   "outputs": [],
   "source": []
  },
  {
   "cell_type": "code",
   "execution_count": null,
   "metadata": {},
   "outputs": [],
   "source": []
  },
  {
   "cell_type": "code",
   "execution_count": null,
   "metadata": {},
   "outputs": [],
   "source": []
  },
  {
   "cell_type": "code",
   "execution_count": null,
   "metadata": {},
   "outputs": [],
   "source": []
  },
  {
   "cell_type": "code",
   "execution_count": null,
   "metadata": {},
   "outputs": [],
   "source": []
  }
 ],
 "metadata": {
  "kernelspec": {
   "display_name": "Python 3",
   "language": "python",
   "name": "python3"
  },
  "language_info": {
   "codemirror_mode": {
    "name": "ipython",
    "version": 3
   },
   "file_extension": ".py",
   "mimetype": "text/x-python",
   "name": "python",
   "nbconvert_exporter": "python",
   "pygments_lexer": "ipython3",
   "version": "3.11.0"
  }
 },
 "nbformat": 4,
 "nbformat_minor": 2
}
